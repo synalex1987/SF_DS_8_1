{
 "cells": [
  {
   "cell_type": "markdown",
   "source": "# Игра \"угадай число\"",
   "metadata": {}
  },
  {
   "metadata": {},
   "cell_type": "markdown",
   "source": ""
  },
  {
   "cell_type": "code",
   "source": [
    "from game_v3 import score_game\n",
    "from game_v3 import random_predict"
   ],
   "metadata": {
    "ExecuteTime": {
     "end_time": "2024-10-16T20:25:52.602483Z",
     "start_time": "2024-10-16T20:25:52.599558Z"
    }
   },
   "outputs": [],
   "execution_count": 5
  },
  {
   "cell_type": "markdown",
   "source": [
    "## Угадываем рандомно"
   ],
   "metadata": {}
  },
  {
   "cell_type": "code",
   "source": "score_game(random_predict)",
   "metadata": {},
   "outputs": [],
   "execution_count": null
  }
 ],
 "metadata": {
  "orig_nbformat": 4,
  "language_info": {
   "name": "python"
  },
  "kernelspec": {
   "name": "python3",
   "language": "python",
   "display_name": "Python 3 (ipykernel)"
  }
 },
 "nbformat": 4,
 "nbformat_minor": 2
}
